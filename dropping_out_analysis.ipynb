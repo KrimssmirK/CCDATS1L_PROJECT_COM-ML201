{
  "nbformat": 4,
  "nbformat_minor": 0,
  "metadata": {
    "colab": {
      "provenance": [],
      "authorship_tag": "ABX9TyO327hypujLIY5zx9+sfxvR",
      "include_colab_link": true
    },
    "kernelspec": {
      "name": "python3",
      "display_name": "Python 3"
    },
    "language_info": {
      "name": "python"
    }
  },
  "cells": [
    {
      "cell_type": "markdown",
      "metadata": {
        "id": "view-in-github",
        "colab_type": "text"
      },
      "source": [
        "<a href=\"https://colab.research.google.com/github/KrimssmirK/CCDATS1L_PROJECT_COM-ML201/blob/main/dropping_out_analysis.ipynb\" target=\"_parent\"><img src=\"https://colab.research.google.com/assets/colab-badge.svg\" alt=\"Open In Colab\"/></a>"
      ]
    },
    {
      "cell_type": "markdown",
      "source": [
        "# General Research Question\n",
        "\n",
        "What are the Key Factors of dropping out in higher education?\n",
        "\n",
        "Research Question\n",
        "1. Do the parents affect the overall performance of the students in higher education?\n",
        "2. Does the previous education affect the overall performance of the students in higher education?\n",
        "3. Are there any gaps between local and foreigner in higher education? (LOCAL VS FOREIGNER)\n",
        "4. Does money affect the overall performance of the students in higher education?"
      ],
      "metadata": {
        "id": "HBe48n3nHSop"
      }
    },
    {
      "cell_type": "code",
      "execution_count": 11,
      "metadata": {
        "colab": {
          "base_uri": "https://localhost:8080/"
        },
        "id": "Qk8faLXY3rty",
        "outputId": "0dae83fd-4604-4dae-ed67-32253827529f"
      },
      "outputs": [
        {
          "output_type": "stream",
          "name": "stdout",
          "text": [
            "Requirement already satisfied: ucimlrepo in /usr/local/lib/python3.10/dist-packages (0.0.3)\n"
          ]
        }
      ],
      "source": [
        "!pip install ucimlrepo"
      ]
    },
    {
      "cell_type": "code",
      "source": [
        "import ucimlrepo\n",
        "import pandas as pd"
      ],
      "metadata": {
        "id": "rZt8l73E4NI6"
      },
      "execution_count": 21,
      "outputs": []
    },
    {
      "cell_type": "code",
      "source": [
        "# fetch dataset\n",
        "predict_students_dropout_and_academic_success = ucimlrepo.fetch_ucirepo(id=697)"
      ],
      "metadata": {
        "id": "nWR94PfW32LL"
      },
      "execution_count": 25,
      "outputs": []
    },
    {
      "cell_type": "code",
      "source": [
        "# metadata\n",
        "print(predict_students_dropout_and_academic_success.metadata)"
      ],
      "metadata": {
        "colab": {
          "base_uri": "https://localhost:8080/"
        },
        "id": "oKpwQPVt65OC",
        "outputId": "d4dc0a78-90f9-4e29-8ec2-4514cd133c9e"
      },
      "execution_count": 38,
      "outputs": [
        {
          "output_type": "stream",
          "name": "stdout",
          "text": [
            "{'uci_id': 697, 'name': \"Predict students' dropout and academic success\", 'repository_url': 'https://archive.ics.uci.edu/dataset/697/predict+students+dropout+and+academic+success', 'data_url': 'https://archive.ics.uci.edu/static/public/697/data.csv', 'abstract': \"A dataset created from a higher education institution (acquired from several disjoint databases) related to students enrolled in different undergraduate degrees, such as agronomy, design, education, nursing, journalism, management, social service, and technologies.\\nThe dataset includes information known at the time of student enrollment (academic path, demographics, and social-economic factors) and the students' academic performance at the end of the first and second semesters. \\nThe data is used to build classification models to predict students' dropout and academic sucess. The problem is formulated as a three category classification task, in which there is a strong imbalance towards one of the classes.\", 'area': 'Other', 'tasks': ['Classification'], 'characteristics': ['Tabular'], 'num_instances': 4424, 'num_features': 36, 'feature_types': [], 'demographics': ['Marital Status', 'Education Level', 'Nationality', 'Occupation', 'Gender', 'Age'], 'target_col': ['Target'], 'index_col': None, 'has_missing_values': 'no', 'missing_values_symbol': None, 'year_of_dataset_creation': 2021, 'last_updated': 'Mon Aug 28 2023', 'dataset_doi': '10.24432/C5MC89', 'creators': ['Valentim Realinho', 'Mónica Vieira Martins', 'Jorge Machado', 'Luís Baptista'], 'intro_paper': {'title': \"Early prediction of student's performance in higher education: a case study\", 'authors': 'Mónica V. Martins, Daniel Tolledo, Jorge Machado, Luís M. T. Baptista, and Valentim Realinho', 'published_in': 'Trends and Applications in Information Systems and Technologies', 'year': 2021, 'url': 'http://www.worldcist.org/2021/', 'doi': 'http://www.doi.org/10.1007/978-3-030-72657-7_16'}, 'additional_info': {'summary': None, 'purpose': 'The dataset was created in a project that aims to contribute to the reduction of academic dropout and failure in higher education, by using machine learning techniques to identify students at risk at an early stage of their academic path, so that strategies to support them can be put into place. \\n\\nThe dataset includes information known at the time of student enrollment – academic path, demographics, and social-economic factors. \\n\\nThe problem is formulated as a three category classification task (dropout, enrolled, and graduate) at the end of the normal duration of the course. \\n', 'funded_by': 'This dataset is supported by program SATDAP - Capacitação da Administração Pública under grant POCI-05-5762-FSE-000191, Portugal.', 'instances_represent': 'Each instance is a student', 'recommended_data_splits': 'The dataset was used, in our project, with a data split of 80% for training and 20% for test.', 'sensitive_data': None, 'preprocessing_description': 'We performed a rigorous data preprocessing to handle data from anomalies, unexplainable outliers, and missing values.', 'variable_info': None, 'citation': 'If you use this dataset in experiments for a scientific publication, please kindly cite our paper: \\nM.V.Martins, D. Tolledo, J. Machado, L. M.T. Baptista, V.Realinho. (2021) \"Early prediction of student’s performance in higher education: a case study\" Trends and Applications in Information Systems and Technologies, vol.1, in Advances in Intelligent Systems and Computing series. Springer. DOI: 10.1007/978-3-030-72657-7_16'}}\n"
          ]
        }
      ]
    },
    {
      "cell_type": "code",
      "source": [
        "# variable information\n",
        "print(predict_students_dropout_and_academic_success.variables)"
      ],
      "metadata": {
        "colab": {
          "base_uri": "https://localhost:8080/"
        },
        "id": "lhONaj7d65wB",
        "outputId": "253334dc-1a4d-4f65-bec5-ebcc4a2ccfb2"
      },
      "execution_count": 41,
      "outputs": [
        {
          "output_type": "stream",
          "name": "stdout",
          "text": [
            "                                              name     role         type  \\\n",
            "0                                   Marital Status  Feature      Integer   \n",
            "1                                 Application mode  Feature      Integer   \n",
            "2                                Application order  Feature      Integer   \n",
            "3                                           Course  Feature      Integer   \n",
            "4                       Daytime/evening attendance  Feature      Integer   \n",
            "5                           Previous qualification  Feature      Integer   \n",
            "6                   Previous qualification (grade)  Feature   Continuous   \n",
            "7                                      Nacionality  Feature      Integer   \n",
            "8                           Mother's qualification  Feature      Integer   \n",
            "9                           Father's qualification  Feature      Integer   \n",
            "10                             Mother's occupation  Feature      Integer   \n",
            "11                             Father's occupation  Feature      Integer   \n",
            "12                                 Admission grade  Feature   Continuous   \n",
            "13                                       Displaced  Feature      Integer   \n",
            "14                       Educational special needs  Feature      Integer   \n",
            "15                                          Debtor  Feature      Integer   \n",
            "16                         Tuition fees up to date  Feature      Integer   \n",
            "17                                          Gender  Feature      Integer   \n",
            "18                              Scholarship holder  Feature      Integer   \n",
            "19                               Age at enrollment  Feature      Integer   \n",
            "20                                   International  Feature      Integer   \n",
            "21             Curricular units 1st sem (credited)  Feature      Integer   \n",
            "22             Curricular units 1st sem (enrolled)  Feature      Integer   \n",
            "23          Curricular units 1st sem (evaluations)  Feature      Integer   \n",
            "24             Curricular units 1st sem (approved)  Feature      Integer   \n",
            "25                Curricular units 1st sem (grade)  Feature      Integer   \n",
            "26  Curricular units 1st sem (without evaluations)  Feature      Integer   \n",
            "27             Curricular units 2nd sem (credited)  Feature      Integer   \n",
            "28             Curricular units 2nd sem (enrolled)  Feature      Integer   \n",
            "29          Curricular units 2nd sem (evaluations)  Feature      Integer   \n",
            "30             Curricular units 2nd sem (approved)  Feature      Integer   \n",
            "31                Curricular units 2nd sem (grade)  Feature      Integer   \n",
            "32  Curricular units 2nd sem (without evaluations)  Feature      Integer   \n",
            "33                               Unemployment rate  Feature   Continuous   \n",
            "34                                  Inflation rate  Feature   Continuous   \n",
            "35                                             GDP  Feature   Continuous   \n",
            "36                                          Target   Target  Categorical   \n",
            "\n",
            "        demographic                                        description units  \\\n",
            "0    Marital Status  1 – single 2 – married 3 – widower 4 – divorce...  None   \n",
            "1              None  1 - 1st phase - general contingent 2 - Ordinan...  None   \n",
            "2              None  Application order (between 0 - first choice; a...  None   \n",
            "3              None  33 - Biofuel Production Technologies 171 - Ani...  None   \n",
            "4              None                            1 – daytime 0 - evening  None   \n",
            "5   Education Level  1 - Secondary education 2 - Higher education -...  None   \n",
            "6              None  Grade of previous qualification (between 0 and...  None   \n",
            "7       Nationality  1 - Portuguese; 2 - German; 6 - Spanish; 11 - ...  None   \n",
            "8   Education Level  1 - Secondary Education - 12th Year of Schooli...  None   \n",
            "9   Education Level  1 - Secondary Education - 12th Year of Schooli...  None   \n",
            "10       Occupation  0 - Student 1 - Representatives of the Legisla...  None   \n",
            "11       Occupation  0 - Student 1 - Representatives of the Legisla...  None   \n",
            "12             None                Admission grade (between 0 and 200)  None   \n",
            "13             None                                     1 – yes 0 – no  None   \n",
            "14             None                                     1 – yes 0 – no  None   \n",
            "15             None                                     1 – yes 0 – no  None   \n",
            "16             None                                     1 – yes 0 – no  None   \n",
            "17           Gender                                1 – male 0 – female  None   \n",
            "18             None                                     1 – yes 0 – no  None   \n",
            "19              Age                       Age of studend at enrollment  None   \n",
            "20             None                                     1 – yes 0 – no  None   \n",
            "21             None  Number of curricular units credited in the 1st...  None   \n",
            "22             None  Number of curricular units enrolled in the 1st...  None   \n",
            "23             None  Number of evaluations to curricular units in t...  None   \n",
            "24             None  Number of curricular units approved in the 1st...  None   \n",
            "25             None  Grade average in the 1st semester (between 0 a...  None   \n",
            "26             None  Number of curricular units without evalutions ...  None   \n",
            "27             None  Number of curricular units credited in the 2nd...  None   \n",
            "28             None  Number of curricular units enrolled in the 2nd...  None   \n",
            "29             None  Number of evaluations to curricular units in t...  None   \n",
            "30             None  Number of curricular units approved in the 2nd...  None   \n",
            "31             None  Grade average in the 2nd semester (between 0 a...  None   \n",
            "32             None  Number of curricular units without evalutions ...  None   \n",
            "33             None                              Unemployment rate (%)  None   \n",
            "34             None                                 Inflation rate (%)  None   \n",
            "35             None                                                GDP  None   \n",
            "36             None  Target. The problem is formulated as a three c...  None   \n",
            "\n",
            "   missing_values  \n",
            "0              no  \n",
            "1              no  \n",
            "2              no  \n",
            "3              no  \n",
            "4              no  \n",
            "5              no  \n",
            "6              no  \n",
            "7              no  \n",
            "8              no  \n",
            "9              no  \n",
            "10             no  \n",
            "11             no  \n",
            "12             no  \n",
            "13             no  \n",
            "14             no  \n",
            "15             no  \n",
            "16             no  \n",
            "17             no  \n",
            "18             no  \n",
            "19             no  \n",
            "20             no  \n",
            "21             no  \n",
            "22             no  \n",
            "23             no  \n",
            "24             no  \n",
            "25             no  \n",
            "26             no  \n",
            "27             no  \n",
            "28             no  \n",
            "29             no  \n",
            "30             no  \n",
            "31             no  \n",
            "32             no  \n",
            "33             no  \n",
            "34             no  \n",
            "35             no  \n",
            "36             no  \n"
          ]
        }
      ]
    },
    {
      "cell_type": "code",
      "source": [
        "# data (as pandas dataframes)\n",
        "data = predict_students_dropout_and_academic_success.data.features\n",
        "labels = predict_students_dropout_and_academic_success.data.targets\n",
        "\n",
        "# concatenate data and labels\n",
        "data['label'] = labels['Target']\n",
        "data.head(5)"
      ],
      "metadata": {
        "id": "MP-NZ4Ud5Kl-"
      },
      "execution_count": 26,
      "outputs": []
    },
    {
      "cell_type": "code",
      "source": [
        "data.columns"
      ],
      "metadata": {
        "colab": {
          "base_uri": "https://localhost:8080/"
        },
        "id": "MeHiLOKR6d13",
        "outputId": "2804bdb2-5ee4-45aa-8b12-63497a94b351"
      },
      "execution_count": 36,
      "outputs": [
        {
          "output_type": "execute_result",
          "data": {
            "text/plain": [
              "Index(['Marital Status', 'Application mode', 'Application order', 'Course',\n",
              "       'Daytime/evening attendance', 'Previous qualification',\n",
              "       'Previous qualification (grade)', 'Nacionality',\n",
              "       'Mother's qualification', 'Father's qualification',\n",
              "       'Mother's occupation', 'Father's occupation', 'Admission grade',\n",
              "       'Displaced', 'Educational special needs', 'Debtor',\n",
              "       'Tuition fees up to date', 'Gender', 'Scholarship holder',\n",
              "       'Age at enrollment', 'International',\n",
              "       'Curricular units 1st sem (credited)',\n",
              "       'Curricular units 1st sem (enrolled)',\n",
              "       'Curricular units 1st sem (evaluations)',\n",
              "       'Curricular units 1st sem (approved)',\n",
              "       'Curricular units 1st sem (grade)',\n",
              "       'Curricular units 1st sem (without evaluations)',\n",
              "       'Curricular units 2nd sem (credited)',\n",
              "       'Curricular units 2nd sem (enrolled)',\n",
              "       'Curricular units 2nd sem (evaluations)',\n",
              "       'Curricular units 2nd sem (approved)',\n",
              "       'Curricular units 2nd sem (grade)',\n",
              "       'Curricular units 2nd sem (without evaluations)', 'Unemployment rate',\n",
              "       'Inflation rate', 'GDP', 'label'],\n",
              "      dtype='object')"
            ]
          },
          "metadata": {},
          "execution_count": 36
        }
      ]
    },
    {
      "cell_type": "code",
      "source": [
        "data['Age at enrollment'].value_counts()"
      ],
      "metadata": {
        "colab": {
          "base_uri": "https://localhost:8080/"
        },
        "id": "zhx-CZQD4IFq",
        "outputId": "c1ab1efc-2d3a-4b22-f09e-82508468ff74"
      },
      "execution_count": 46,
      "outputs": [
        {
          "output_type": "execute_result",
          "data": {
            "text/plain": [
              "18    1036\n",
              "19     911\n",
              "20     599\n",
              "21     322\n",
              "22     174\n",
              "24     131\n",
              "23     108\n",
              "26      94\n",
              "25      93\n",
              "27      91\n",
              "28      83\n",
              "29      66\n",
              "32      61\n",
              "34      60\n",
              "31      55\n",
              "35      49\n",
              "30      49\n",
              "33      45\n",
              "37      42\n",
              "39      38\n",
              "36      35\n",
              "41      31\n",
              "38      29\n",
              "43      25\n",
              "40      23\n",
              "45      22\n",
              "44      21\n",
              "47      18\n",
              "50      16\n",
              "42      13\n",
              "49      13\n",
              "46      12\n",
              "48      11\n",
              "51       7\n",
              "54       7\n",
              "53       7\n",
              "17       5\n",
              "55       5\n",
              "52       4\n",
              "59       3\n",
              "58       3\n",
              "57       2\n",
              "60       2\n",
              "61       1\n",
              "70       1\n",
              "62       1\n",
              "Name: Age at enrollment, dtype: int64"
            ]
          },
          "metadata": {},
          "execution_count": 46
        }
      ]
    },
    {
      "cell_type": "code",
      "source": [],
      "metadata": {
        "id": "UjT4mW0z7HOG"
      },
      "execution_count": null,
      "outputs": []
    }
  ]
}